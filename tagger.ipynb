{
 "cells": [
  {
   "cell_type": "code",
   "execution_count": 2,
   "metadata": {},
   "outputs": [
    {
     "name": "stdout",
     "output_type": "stream",
     "text": [
      "Collecting opencv-python\n",
      "  Downloading opencv_python-4.10.0.84-cp37-abi3-macosx_11_0_arm64.whl.metadata (20 kB)\n",
      "Requirement already satisfied: numpy in /Users/ivansimo/anaconda3/envs/teatrero/lib/python3.12/site-packages (1.26.4)\n",
      "Collecting svgwrite\n",
      "  Downloading svgwrite-1.4.3-py3-none-any.whl.metadata (8.8 kB)\n",
      "Collecting matplotlib\n",
      "  Downloading matplotlib-3.9.2-cp312-cp312-macosx_11_0_arm64.whl.metadata (11 kB)\n",
      "Collecting contourpy>=1.0.1 (from matplotlib)\n",
      "  Downloading contourpy-1.3.0-cp312-cp312-macosx_11_0_arm64.whl.metadata (5.4 kB)\n",
      "Collecting cycler>=0.10 (from matplotlib)\n",
      "  Using cached cycler-0.12.1-py3-none-any.whl.metadata (3.8 kB)\n",
      "Collecting fonttools>=4.22.0 (from matplotlib)\n",
      "  Downloading fonttools-4.54.1-cp312-cp312-macosx_11_0_arm64.whl.metadata (163 kB)\n",
      "Collecting kiwisolver>=1.3.1 (from matplotlib)\n",
      "  Downloading kiwisolver-1.4.7-cp312-cp312-macosx_11_0_arm64.whl.metadata (6.3 kB)\n",
      "Requirement already satisfied: packaging>=20.0 in /Users/ivansimo/anaconda3/envs/teatrero/lib/python3.12/site-packages (from matplotlib) (24.1)\n",
      "Collecting pillow>=8 (from matplotlib)\n",
      "  Downloading pillow-11.0.0-cp312-cp312-macosx_11_0_arm64.whl.metadata (9.1 kB)\n",
      "Collecting pyparsing>=2.3.1 (from matplotlib)\n",
      "  Downloading pyparsing-3.2.0-py3-none-any.whl.metadata (5.0 kB)\n",
      "Requirement already satisfied: python-dateutil>=2.7 in /Users/ivansimo/anaconda3/envs/teatrero/lib/python3.12/site-packages (from matplotlib) (2.9.0)\n",
      "Requirement already satisfied: six>=1.5 in /Users/ivansimo/anaconda3/envs/teatrero/lib/python3.12/site-packages (from python-dateutil>=2.7->matplotlib) (1.16.0)\n",
      "Downloading opencv_python-4.10.0.84-cp37-abi3-macosx_11_0_arm64.whl (54.8 MB)\n",
      "\u001b[2K   \u001b[90m━━━━━━━━━━━━━━━━━━━━━━━━━━━━━━━━━━━━━━━━\u001b[0m \u001b[32m54.8/54.8 MB\u001b[0m \u001b[31m806.6 kB/s\u001b[0m eta \u001b[36m0:00:00\u001b[0m00:01\u001b[0m00:03\u001b[0m\n",
      "\u001b[?25hDownloading svgwrite-1.4.3-py3-none-any.whl (67 kB)\n",
      "Downloading matplotlib-3.9.2-cp312-cp312-macosx_11_0_arm64.whl (7.8 MB)\n",
      "\u001b[2K   \u001b[90m━━━━━━━━━━━━━━━━━━━━━━━━━━━━━━━━━━━━━━━━\u001b[0m \u001b[32m7.8/7.8 MB\u001b[0m \u001b[31m1.4 MB/s\u001b[0m eta \u001b[36m0:00:00\u001b[0m00:01\u001b[0m00:01\u001b[0m\n",
      "\u001b[?25hDownloading contourpy-1.3.0-cp312-cp312-macosx_11_0_arm64.whl (251 kB)\n",
      "Using cached cycler-0.12.1-py3-none-any.whl (8.3 kB)\n",
      "Downloading fonttools-4.54.1-cp312-cp312-macosx_11_0_arm64.whl (2.3 MB)\n",
      "\u001b[2K   \u001b[90m━━━━━━━━━━━━━━━━━━━━━━━━━━━━━━━━━━━━━━━━\u001b[0m \u001b[32m2.3/2.3 MB\u001b[0m \u001b[31m1.4 MB/s\u001b[0m eta \u001b[36m0:00:00\u001b[0ma \u001b[36m0:00:01\u001b[0m\n",
      "\u001b[?25hDownloading kiwisolver-1.4.7-cp312-cp312-macosx_11_0_arm64.whl (63 kB)\n",
      "Downloading pillow-11.0.0-cp312-cp312-macosx_11_0_arm64.whl (3.0 MB)\n",
      "\u001b[2K   \u001b[90m━━━━━━━━━━━━━━━━━━━━━━━━━━━━━━━━━━━━━━━━\u001b[0m \u001b[32m3.0/3.0 MB\u001b[0m \u001b[31m1.4 MB/s\u001b[0m eta \u001b[36m0:00:00\u001b[0ma \u001b[36m0:00:01\u001b[0m\n",
      "\u001b[?25hDownloading pyparsing-3.2.0-py3-none-any.whl (106 kB)\n",
      "Installing collected packages: svgwrite, pyparsing, pillow, opencv-python, kiwisolver, fonttools, cycler, contourpy, matplotlib\n",
      "Successfully installed contourpy-1.3.0 cycler-0.12.1 fonttools-4.54.1 kiwisolver-1.4.7 matplotlib-3.9.2 opencv-python-4.10.0.84 pillow-11.0.0 pyparsing-3.2.0 svgwrite-1.4.3\n"
     ]
    }
   ],
   "source": [
    "!pip install opencv-python numpy svgwrite matplotlib\n"
   ]
  },
  {
   "cell_type": "code",
   "execution_count": 15,
   "metadata": {},
   "outputs": [],
   "source": [
    "import cv2\n",
    "import numpy as np\n",
    "from svgwrite import Drawing\n",
    "import json"
   ]
  },
  {
   "cell_type": "code",
   "execution_count": 18,
   "metadata": {},
   "outputs": [],
   "source": [
    "def create_comic_svg(image_path, target_color_hex, tolerance=30):\n",
    "    # Convertir el color hex a BGR (OpenCV usa BGR)\n",
    "    target_color_rgb = tuple(int(target_color_hex[i:i+2], 16) for i in (1, 3, 5))\n",
    "    target_color_bgr = target_color_rgb[::-1]\n",
    "    \n",
    "    # Leer la imagen\n",
    "    img = cv2.imread(image_path)\n",
    "    if img is None:\n",
    "        raise ValueError(f\"No se pudo cargar la imagen: {image_path}\")\n",
    "    \n",
    "    # Crear máscara para el color específico\n",
    "    lower_bound = np.array([max(0, c - tolerance) for c in target_color_bgr])\n",
    "    upper_bound = np.array([min(255, c + tolerance) for c in target_color_bgr])\n",
    "    mask = cv2.inRange(img, lower_bound, upper_bound)\n",
    "    \n",
    "    # Encontrar contornos\n",
    "    contours, _ = cv2.findContours(mask, cv2.RETR_EXTERNAL, cv2.CHAIN_APPROX_SIMPLE)\n",
    "    \n",
    "    # Obtener dimensiones de la imagen\n",
    "    height, width = img.shape[:2]\n",
    "    \n",
    "    # Crear SVG\n",
    "    dwg = Drawing('comic_panels.svg', size=(width, height))\n",
    "    \n",
    "    # Crear diccionario para almacenar información de las viñetas\n",
    "    panels_data = {\n",
    "        \"image_path\": image_path,\n",
    "        \"panels\": []\n",
    "    }\n",
    "    \n",
    "    # Añadir cada contorno como un polígono en el SVG\n",
    "    for i, contour in enumerate(contours):\n",
    "        # Simplificar el contorno\n",
    "        epsilon = 0.01 * cv2.arcLength(contour, True)\n",
    "        approx = cv2.approxPolyDP(contour, epsilon, True)\n",
    "        \n",
    "        # Convertir puntos a formato SVG\n",
    "        points = []\n",
    "        for point in approx:\n",
    "            x = float(point[0][0])\n",
    "            y = float(point[0][1])\n",
    "            points.append((x, y))\n",
    "        \n",
    "        # Guardar información de la viñeta\n",
    "        panel_info = {\n",
    "            \"id\": i + 1,\n",
    "            \"coordinates\": points,\n",
    "            \"description\": \"\"  # Campo vacío para rellenar después\n",
    "        }\n",
    "        panels_data[\"panels\"].append(panel_info)\n",
    "        \n",
    "        # Crear polígono SVG\n",
    "        if points:  # Verificar que hay puntos antes de crear el polígono\n",
    "            polygon = dwg.polygon(\n",
    "                points=points,\n",
    "                fill='none',\n",
    "                stroke='red',\n",
    "                stroke_width=1,\n",
    "                class_='panel',\n",
    "                onclick=f\"handlePanelClick({i+1})\"\n",
    "            )\n",
    "            dwg.add(polygon)\n",
    "    \n",
    "    # Guardar JSON\n",
    "    with open('comic_panels.json', 'w', encoding='utf-8') as f:\n",
    "        json.dump(panels_data, f, ensure_ascii=False, indent=4)\n",
    "    \n",
    "    # Guardar SVG\n",
    "    dwg.save()\n",
    "    \n",
    "    return len(contours)"
   ]
  },
  {
   "cell_type": "code",
   "execution_count": 19,
   "metadata": {},
   "outputs": [
    {
     "name": "stdout",
     "output_type": "stream",
     "text": [
      "Se detectaron 2 viñetas\n"
     ]
    }
   ],
   "source": [
    "# Ejemplo de uso\n",
    "image_path = \"test.jpg\"  # Reemplaza esto con tu ruta real\n",
    "target_color = \"#82c173\"  # Color de los bordes a detectar (rojo en este ejemplo)\n",
    "\n",
    "num_panels = create_comic_svg(image_path, target_color)\n",
    "print(f\"Se detectaron {num_panels} viñetas\")"
   ]
  },
  {
   "cell_type": "code",
   "execution_count": 13,
   "metadata": {},
   "outputs": [],
   "source": [
    "# Para visualizar la imagen original y la máscara\n",
    "import matplotlib.pyplot as plt\n",
    "\n",
    "def visualizar_resultados(image_path, mask):\n",
    "    img = cv2.imread(image_path)\n",
    "    img_rgb = cv2.cvtColor(img, cv2.COLOR_BGR2RGB)\n",
    "    \n",
    "    fig, (ax1, ax2) = plt.subplots(1, 2, figsize=(15, 5))\n",
    "    ax1.imshow(img_rgb)\n",
    "    ax1.set_title('Imagen Original')\n",
    "    ax1.axis('off')\n",
    "    \n",
    "    ax2.imshow(mask, cmap='gray')\n",
    "    ax2.set_title('Máscara de Detección')\n",
    "    ax2.axis('off')\n",
    "    \n",
    "    plt.show()"
   ]
  }
 ],
 "metadata": {
  "kernelspec": {
   "display_name": "teatrero",
   "language": "python",
   "name": "python3"
  },
  "language_info": {
   "codemirror_mode": {
    "name": "ipython",
    "version": 3
   },
   "file_extension": ".py",
   "mimetype": "text/x-python",
   "name": "python",
   "nbconvert_exporter": "python",
   "pygments_lexer": "ipython3",
   "version": "3.12.7"
  }
 },
 "nbformat": 4,
 "nbformat_minor": 2
}
